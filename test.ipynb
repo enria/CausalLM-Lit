{
 "cells": [
  {
   "cell_type": "code",
   "execution_count": 1,
   "metadata": {},
   "outputs": [],
   "source": [
    "from transformers import (\n",
    "    BertTokenizerFast\n",
    ")"
   ]
  },
  {
   "cell_type": "code",
   "execution_count": 29,
   "metadata": {},
   "outputs": [],
   "source": [
    "tokenizer=BertTokenizerFast.from_pretrained(\"/storage/public/models/chinese-roberta-wwm-ext\")"
   ]
  },
  {
   "cell_type": "code",
   "execution_count": 30,
   "metadata": {},
   "outputs": [
    {
     "data": {
      "text/plain": [
       "[101, 11685, 9808, 8620, 8168, 8348, 9264, 102]"
      ]
     },
     "execution_count": 30,
     "metadata": {},
     "output_type": "execute_result"
    }
   ],
   "source": [
    "text=\"pretrained language model\"\n",
    "inputs = tokenizer(text,padding=True,return_tensors=\"pt\", max_length=512,truncation=True,return_offsets_mapping=True)\n",
    "inputs[\"input_ids\"].tolist()[0]"
   ]
  },
  {
   "cell_type": "code",
   "execution_count": 31,
   "metadata": {},
   "outputs": [
    {
     "name": "stdout",
     "output_type": "stream",
     "text": [
      "101 [CLS]\n",
      "11685 pre\n",
      "9808 ##tra\n",
      "8620 ##ine\n",
      "8168 ##d\n",
      "8348 language\n",
      "9264 model\n",
      "102 [SEP]\n"
     ]
    }
   ],
   "source": [
    "ids=inputs[\"input_ids\"].tolist()[0]\n",
    "id2word={wid:w for w,wid in tokenizer.vocab.items()}\n",
    "for i in ids:\n",
    "    print(i,id2word[i])"
   ]
  },
  {
   "cell_type": "code",
   "execution_count": 8,
   "metadata": {},
   "outputs": [],
   "source": [
    "from omegaconf import OmegaConf\n",
    "conf = OmegaConf.from_cli([\"--D.fsdafsa\",\"fdsaf\"])"
   ]
  },
  {
   "cell_type": "code",
   "execution_count": 9,
   "metadata": {},
   "outputs": [
    {
     "data": {
      "text/plain": [
       "{'--D': {'fsdafsa': None}, 'fdsaf': None}"
      ]
     },
     "execution_count": 9,
     "metadata": {},
     "output_type": "execute_result"
    }
   ],
   "source": [
    "OmegaConf.from_cli"
   ]
  },
  {
   "cell_type": "code",
   "execution_count": 3,
   "metadata": {},
   "outputs": [],
   "source": [
    "from lightning.pytorch.loops.evaluation_loop import _EvaluationLoop\n",
    "\n",
    "_EvaluationLoop._print_results([], \"Data setup\")"
   ]
  }
 ],
 "metadata": {
  "interpreter": {
   "hash": "9804ff35fb053546b86611d4b97521d03ec48fde32396c4b5078784da4900024"
  },
  "kernelspec": {
   "display_name": "Python 3.8.12 64-bit ('dl_demos': conda)",
   "name": "python3"
  },
  "language_info": {
   "codemirror_mode": {
    "name": "ipython",
    "version": 3
   },
   "file_extension": ".py",
   "mimetype": "text/x-python",
   "name": "python",
   "nbconvert_exporter": "python",
   "pygments_lexer": "ipython3",
   "version": "3.8.0"
  },
  "orig_nbformat": 4
 },
 "nbformat": 4,
 "nbformat_minor": 2
}
